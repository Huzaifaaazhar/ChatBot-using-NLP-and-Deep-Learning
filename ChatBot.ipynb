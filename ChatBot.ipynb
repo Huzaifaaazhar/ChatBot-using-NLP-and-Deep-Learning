{
 "cells": [
  {
   "cell_type": "code",
   "execution_count": null,
   "metadata": {},
   "outputs": [],
   "source": [
    "import random\n",
    "import json\n",
    "import pickle\n",
    "import numpy as np\n",
    "import nltk\n",
    "from nltk.stem import WordNetLemmatizer\n",
    "from tensorflow.keras.models import Sequential\n",
    "from tensorflow.keras.layers import Dense, Activation, Dropout\n",
    "from tensorflow.keras.optimizers import SGD"
   ]
  },
  {
   "cell_type": "code",
   "execution_count": null,
   "metadata": {},
   "outputs": [],
   "source": [
    "lem = WordNetLemmatizer()\n",
    "intents = json.loads(open('E:\\Data Material\\SayabiDevs\\ChatBot in Python\\Intents.JSON').read())\n",
    "phrases = []\n",
    "docs = []\n",
    "classes = []\n",
    "ignore = ['?', '!' , '.' , ',']"
   ]
  },
  {
   "cell_type": "code",
   "execution_count": null,
   "metadata": {},
   "outputs": [],
   "source": [
    "for intent in intents['intents']:\n",
    "    for pattern in intent['patterns']:\n",
    "        list_of_words = nltk.word_tokenize(pattern)\n",
    "        phrases.extend(list_of_words)\n",
    "        docs.append((list_of_words, intent['tag']))\n",
    "        if intent['tag'] not in classes:\n",
    "            classes.append(intent['tag'])"
   ]
  },
  {
   "cell_type": "code",
   "execution_count": null,
   "metadata": {},
   "outputs": [],
   "source": [
    "phrases = [lem.lemmatize(word) for word in phrases if word not in ignore]\n",
    "phrases = sorted(set(phrases))\n",
    "classes = sorted(set(classes))\n",
    "pickle.dump(phrases, open('phrases.pkl', 'wb'))\n",
    "pickle.dump(classes, open('classes.pkl', 'wb'))"
   ]
  },
  {
   "cell_type": "code",
   "execution_count": null,
   "metadata": {},
   "outputs": [],
   "source": [
    "# As machine takes input numerical values, so for converting our categorical data into\n",
    "# numerical features, we'll develop a machine learning model.\n",
    "# Bag of words technique for nural networks as it converts our data into 0s and 1s, depending upon the occurence of input.\n",
    "# Similarly we do this to the classes in the particular patterns.\n",
    "practice = []\n",
    "null_output = [0] * len(classes) #0s as much as classes\n",
    "for document in docs:\n",
    "    bag = [] #empty bag of word for each class\n",
    "    words_pattern = document[0] #word patterns in document at inndex 0\n",
    "    words_pattern = [lem.lemmatize(word.lower() for word in words_pattern)]\n",
    "    for word in phrases:\n",
    "        bag.append(1) if word in words_pattern else bag.append(0) #if word occured in phrases than 0 otherwise 1\n",
    "    row = list(null_output)\n",
    "    row[classes.index(document[1])] = 1 #class at index 1 added in output row to 1\n",
    "    practice.append([bag, row])\n",
    "    \n",
    "    random.shuffle(practice) # shuffling practice data and converting in numpy array\n",
    "    training = np.array(practice)\n",
    "    \n",
    "    train_x = list[:, 0] # x and y values for features and labels to train neural networks\n",
    "    train_y = list[:, 1]"
   ]
  },
  {
   "cell_type": "code",
   "execution_count": null,
   "metadata": {},
   "outputs": [],
   "source": [
    "#Developing our Neural Network Model.\n",
    "mod = Sequential()\n",
    "#input layer\n",
    "mod.add(Dense(128, input_shape=(len(train_x[0])), activation = 'relu'))\n",
    "#to avoid overfitting\n",
    "mod.add(Dropout(0.5))\n",
    "\n",
    "mod.add(Dense(64, activation = 'relu'))\n",
    "mod.add(Dropout(0.5))\n",
    "mod.add(Dense(len(train_y[0])), activation = 'softmax') #functions that sums up results in the output layer."
   ]
  },
  {
   "cell_type": "code",
   "execution_count": null,
   "metadata": {},
   "outputs": [],
   "source": []
  },
  {
   "cell_type": "code",
   "execution_count": null,
   "metadata": {},
   "outputs": [],
   "source": []
  },
  {
   "cell_type": "code",
   "execution_count": null,
   "metadata": {},
   "outputs": [],
   "source": []
  },
  {
   "cell_type": "code",
   "execution_count": null,
   "metadata": {},
   "outputs": [],
   "source": []
  }
 ],
 "metadata": {
  "kernelspec": {
   "display_name": "Python 3",
   "language": "python",
   "name": "python3"
  },
  "language_info": {
   "name": "python",
   "version": "3.10.10"
  },
  "orig_nbformat": 4,
  "vscode": {
   "interpreter": {
    "hash": "0df4dddb637ba8aec10a13d922b99bbd287232316513a3a8b2066d6420544039"
   }
  }
 },
 "nbformat": 4,
 "nbformat_minor": 2
}
